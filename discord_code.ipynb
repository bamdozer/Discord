{
 "cells": [
  {
   "cell_type": "code",
   "execution_count": null,
   "id": "c283212c-a503-4f0c-bdba-d06cab82f97c",
   "metadata": {},
   "outputs": [],
   "source": [
    "import plotly.graph_objects as go\n",
    "import plotly.express as px\n",
    "import pandas as pd\n",
    "\n",
    "df = pd.read_excel('/path/normalized_discord_activity_data_with_chart.xlsx')\n",
    "# You have to reshpate the dataframe to long format for Plotly\n",
    "df_long = pd.melt(df, id_vars=['Date'], var_name='Name', value_name='EXP')\n",
    "\n",
    "# Sorts the dataframe by date/EXP for each Date\n",
    "df_long = df_long.sort_values(by=['Date', 'EXP'], ascending=[True, True])\n",
    "\n",
    "# line plot \n",
    "fig = go.Figure()\n",
    "\n",
    "# Add traces for each Name\n",
    "for name in df_long['Name'].unique():\n",
    "    df_filtered = df_long[df_long['Name'] == name]\n",
    "    fig.add_trace(go.Scatter(\n",
    "        x=df_filtered['Date'], \n",
    "        y=df_filtered['EXP'], \n",
    "        mode='lines',\n",
    "        name=name,\n",
    "        hoverinfo='text',\n",
    "        hovertext=[\n",
    "            f\"{row['Name']}: {row['EXP']}\" for i, row in df_filtered.iterrows()\n",
    "        ]\n",
    "    ))\n",
    "\n",
    "# Make the layout fancy\n",
    "fig.update_layout(\n",
    "    title='EXP Progression Over Time',\n",
    "    xaxis_title='Date',\n",
    "    yaxis_title='EXP',\n",
    "    hovermode='x',  # Show all hover data aligned with the x axis\n",
    "    template='plotly_dark',  # Darker background\n",
    "    margin=dict(l=40, r=40, t=40, b=40)\n",
    ")\n",
    "\n",
    "# Sort the hover data by highest value\n",
    "fig.update_traces(hovertemplate='<b>%{fullData.name}</b>: %{y}<extra></extra>')\n",
    "\n",
    "# Save plot as an HTML file\n",
    "html_file_path = '/path/w2exp_progression_over_time.html'\n",
    "fig.write_html(html_file_path)"
   ]
  }
 ],
 "metadata": {
  "kernelspec": {
   "display_name": "Python 3 (ipykernel)",
   "language": "python",
   "name": "python3"
  },
  "language_info": {
   "codemirror_mode": {
    "name": "ipython",
    "version": 3
   },
   "file_extension": ".py",
   "mimetype": "text/x-python",
   "name": "python",
   "nbconvert_exporter": "python",
   "pygments_lexer": "ipython3",
   "version": "3.11.5"
  }
 },
 "nbformat": 4,
 "nbformat_minor": 5
}
